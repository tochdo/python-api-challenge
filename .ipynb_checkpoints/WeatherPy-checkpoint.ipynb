{
 "cells": [
  {
   "cell_type": "code",
   "execution_count": null,
   "id": "0cc99809",
   "metadata": {},
   "outputs": [],
   "source": [
    "# Dependencies and Setup\n",
    "import matplotlib.pyplot as plt\n",
    "import pandas as pd\n",
    "import numpy as np\n",
    "import requests\n",
    "import time\n",
    "from scipy.stats import linregress\n",
    "\n",
    "# Import API key\n",
    "from api_keys import weather_api_key\n",
    "\n",
    "# Incorporated citipy to determine city based on latitude and longitude\n",
    "from citipy import citipy\n",
    "\n",
    "# Output File (CSV)\n",
    "output_data_file = \"output_data/cities.csv\"\n",
    "\n",
    "# Range of latitudes and longitudes\n",
    "lat_range = (-90, 90)\n",
    "lng_range = (-180, 180)"
   ]
  },
  {
   "cell_type": "code",
   "execution_count": null,
   "id": "ca7ebfd1",
   "metadata": {},
   "outputs": [],
   "source": [
    "# Generate Cities List\n",
    "# List for holding lat_lngs and cities\n",
    "lat_lngs = []\n",
    "cities = []\n",
    "\n",
    "# Create a set of random lat and lng combinations\n",
    "lats = np.random.uniform(lat_range[0], lat_range[1], size=1500)\n",
    "lngs = np.random.uniform(lng_range[0], lng_range[1], size=1500)\n",
    "lat_lngs = zip(lats, lngs)\n",
    "\n",
    "# Identify nearest city for each lat, lng combination\n",
    "for lat_lng in lat_lngs:\n",
    "    city = citipy.nearest_city(lat_lng[0], lat_lng[1]).city_name\n",
    "    \n",
    "    # If the city is unique, then add it to a our cities list\n",
    "    if city not in cities:\n",
    "        cities.append(city)\n",
    "\n",
    "# Print the city count to confirm sufficient count - 635 was the example given\n",
    "len(cities) "
   ]
  },
  {
   "cell_type": "code",
   "execution_count": null,
   "id": "877f4422",
   "metadata": {},
   "outputs": [],
   "source": [
    "#Perform API Calls\n",
    "#Perform a weather check on each city using a series of successive API calls.\n",
    "#Include a print log of each city as it's being processed (with the city number and city name)."
   ]
  },
  {
   "cell_type": "code",
   "execution_count": null,
   "id": "a4f1e04d",
   "metadata": {},
   "outputs": [],
   "source": [
    "#Convert Raw Data to DataFrame\n",
    "#Export the city data into a .csv.\n",
    "#Display the DataFrame\n",
    "\n",
    "# Create a DataFrame of frames using a dictionary of lists\n",
    "#frame_df = pd.DataFrame({\n",
    "    #\"Frame\": [\"Ornate\", \"Classical\", \"Modern\", \"Wood\", \"Cardboard\"],\n",
    "    #\"Price\": [15.00, 12.50, 10.00, 5.00, 1.00],\n",
    "    #\"Sales\": [100, 200, 150, 300, \"N/A\"]\n",
    "#})\n",
    "#frame_df"
   ]
  },
  {
   "cell_type": "code",
   "execution_count": null,
   "id": "1013e0dc",
   "metadata": {},
   "outputs": [],
   "source": [
    "#Inspect the data and remove the cities where the humidity > 100%.\n",
    "#Skip this step if there are no cities that have humidity > 100%.\n",
    " #  Get the indices of cities that have humidity over 100%.\n",
    "    Int64Index([], dtype='int64')"
   ]
  },
  {
   "cell_type": "code",
   "execution_count": null,
   "id": "f119714f",
   "metadata": {},
   "outputs": [],
   "source": [
    "# Make a new DataFrame equal to the city data to drop all humidity outliers by index.\n",
    "# Passing \"inplace=False\" will make a copy of the city_data DataFrame, which we call \"clean_city_data\"."
   ]
  },
  {
   "cell_type": "code",
   "execution_count": null,
   "id": "2dca55e4",
   "metadata": {},
   "outputs": [],
   "source": [
    "#Plotting the Data\n",
    "#Use proper labeling of the plots using plot titles (including date of analysis) and axes labels.\n",
    "#Save the plotted figures as .pngs."
   ]
  },
  {
   "cell_type": "code",
   "execution_count": null,
   "id": "6ed0e120",
   "metadata": {},
   "outputs": [],
   "source": [
    "#Latitude vs. Temperature Plot"
   ]
  },
  {
   "cell_type": "code",
   "execution_count": null,
   "id": "291910ca",
   "metadata": {},
   "outputs": [],
   "source": [
    "#Latitude vs. Humidity Plot"
   ]
  },
  {
   "cell_type": "code",
   "execution_count": null,
   "id": "bb73f7dd",
   "metadata": {},
   "outputs": [],
   "source": [
    "#Latitude vs. Cloudiness Plot"
   ]
  },
  {
   "cell_type": "code",
   "execution_count": null,
   "id": "42780ce3",
   "metadata": {},
   "outputs": [],
   "source": [
    "#Latitude vs. Wind Speed Plot"
   ]
  },
  {
   "cell_type": "code",
   "execution_count": null,
   "id": "0ff2a4fe",
   "metadata": {},
   "outputs": [],
   "source": [
    "#Linear Regression\n",
    "#Northern Hemisphere - Max Temp vs. Latitude Linear Regression (Print r value)"
   ]
  },
  {
   "cell_type": "code",
   "execution_count": null,
   "id": "c0d08c7e",
   "metadata": {},
   "outputs": [],
   "source": [
    "#Southern Hemisphere - Max Temp vs. Latitude Linear Regression (print r value)"
   ]
  },
  {
   "cell_type": "code",
   "execution_count": null,
   "id": "403a03ca",
   "metadata": {},
   "outputs": [],
   "source": [
    "Northern Hemisphere - Humidity (%) vs. Latitude Linear Regression"
   ]
  },
  {
   "cell_type": "code",
   "execution_count": null,
   "id": "df0de722",
   "metadata": {},
   "outputs": [],
   "source": [
    "Southern Hemisphere - Humidity (%) vs. Latitude Linear Regression"
   ]
  },
  {
   "cell_type": "code",
   "execution_count": null,
   "id": "07cbc8fa",
   "metadata": {},
   "outputs": [],
   "source": [
    " Northern Hemisphere - Cloudiness (%) vs. Latitude Linear Regression"
   ]
  },
  {
   "cell_type": "code",
   "execution_count": null,
   "id": "121b708d",
   "metadata": {},
   "outputs": [],
   "source": [
    "Southern Hemisphere - Cloudiness (%) vs. Latitude Linear Regression"
   ]
  },
  {
   "cell_type": "code",
   "execution_count": null,
   "id": "9f6df313",
   "metadata": {},
   "outputs": [],
   "source": [
    " Northern Hemisphere - Wind Speed (mph) vs. Latitude Linear Regression"
   ]
  },
  {
   "cell_type": "code",
   "execution_count": null,
   "id": "4ffabf95",
   "metadata": {},
   "outputs": [],
   "source": [
    " Southern Hemisphere - Wind Speed (mph) vs. Latitude Linear Regression"
   ]
  }
 ],
 "metadata": {
  "kernelspec": {
   "display_name": "Python 3",
   "language": "python",
   "name": "python3"
  },
  "language_info": {
   "codemirror_mode": {
    "name": "ipython",
    "version": 3
   },
   "file_extension": ".py",
   "mimetype": "text/x-python",
   "name": "python",
   "nbconvert_exporter": "python",
   "pygments_lexer": "ipython3",
   "version": "3.8.8"
  }
 },
 "nbformat": 4,
 "nbformat_minor": 5
}
